{
 "cells": [
  {
   "cell_type": "code",
   "execution_count": 1,
   "id": "2a35680c-d19c-415c-ab6d-67ddeacf6533",
   "metadata": {},
   "outputs": [
    {
     "data": {
      "text/html": [
       "<a href=\"/pipeline/#/experiments/details/80727a0f-8658-4a53-a932-f6c3b6e43f43\" target=\"_blank\" >Experiment details</a>."
      ],
      "text/plain": [
       "<IPython.core.display.HTML object>"
      ]
     },
     "metadata": {},
     "output_type": "display_data"
    },
    {
     "data": {
      "text/html": [
       "<a href=\"/pipeline/#/runs/details/900fa6bf-230f-4110-9fe9-4944b5c30a0d\" target=\"_blank\" >Run details</a>."
      ],
      "text/plain": [
       "<IPython.core.display.HTML object>"
      ]
     },
     "metadata": {},
     "output_type": "display_data"
    }
   ],
   "source": [
    "#!/usr/bin/env python3\n",
    "# Copyright 2020 The Kubeflow Pipleines authors\n",
    "#\n",
    "# Licensed under the Apache License, Version 2.0 (the \"License\");\n",
    "# you may not use this file except in compliance with the License.\n",
    "# You may obtain a copy of the License at\n",
    "#\n",
    "#      http://www.apache.org/licenses/LICENSE-2.0\n",
    "#\n",
    "# Unless required by applicable law or agreed to in writing, software\n",
    "# distributed under the License is distributed on an \"AS IS\" BASIS,\n",
    "# WITHOUT WARRANTIES OR CONDITIONS OF ANY KIND, either express or implied.\n",
    "# See the License for the specific language governing permissions and\n",
    "# limitations under the License.\n",
    "\n",
    "# This sample demonstrates continuous training using a train-eval-check recursive loop.\n",
    "# The main pipeline trains the initial model and then gradually trains the model\n",
    "# some more until the model evaluation metrics are good enough.\n",
    "\n",
    "import kfp\n",
    "from kfp import components\n",
    "\n",
    "\n",
    "#chicago_taxi_dataset_op = components.load_component_from_url('https://raw.githubusercontent.com/kubeflow/pipelines/e3337b8bdcd63636934954e592d4b32c95b49129/components/datasets/Chicago%20Taxi/component.yaml')\n",
    "chicago_taxi_dataset_op = components.load_component_from_file('components/component.yaml')\n",
    "xgboost_train_on_csv_op = components.load_component_from_url('https://raw.githubusercontent.com/kubeflow/pipelines/567c04c51ff00a1ee525b3458425b17adbe3df61/components/XGBoost/Train/component.yaml')\n",
    "xgboost_predict_on_csv_op = components.load_component_from_url('https://raw.githubusercontent.com/kubeflow/pipelines/567c04c51ff00a1ee525b3458425b17adbe3df61/components/XGBoost/Predict/component.yaml')\n",
    "\n",
    "pandas_transform_csv_op = components.load_component_from_url('https://raw.githubusercontent.com/kubeflow/pipelines/6162d55998b176b50267d351241100bb0ee715bc/components/pandas/Transform_DataFrame/in_CSV_format/component.yaml')\n",
    "drop_header_op = kfp.components.load_component_from_url('https://raw.githubusercontent.com/kubeflow/pipelines/02c9638287468c849632cf9f7885b51de4c66f86/components/tables/Remove_header/component.yaml')\n",
    "calculate_regression_metrics_from_csv_op = kfp.components.load_component_from_url('https://raw.githubusercontent.com/kubeflow/pipelines/616542ac0f789914f4eb53438da713dd3004fba4/components/ml_metrics/Calculate_regression_metrics/from_CSV/component.yaml')\n",
    "\n",
    "\n",
    "# This recursive sub-pipeline trains a model, evaluates it, calculates the metrics and checks them.\n",
    "# If the model error is too high, then more training is performed until the model is good.\n",
    "@kfp.dsl.graph_component\n",
    "def train_until_low_error(starting_model, training_data, true_values):\n",
    "    # Training\n",
    "    model = xgboost_train_on_csv_op(\n",
    "        training_data=training_data,\n",
    "        starting_model=starting_model,\n",
    "        label_column=0,\n",
    "        objective='reg:squarederror',\n",
    "        num_iterations=50,\n",
    "    ).outputs['model']\n",
    "\n",
    "    # Predicting\n",
    "    predictions = xgboost_predict_on_csv_op(\n",
    "        data=training_data,\n",
    "        model=model,\n",
    "        label_column=0,\n",
    "    ).output\n",
    "\n",
    "    # Calculating the regression metrics    \n",
    "    metrics_task = calculate_regression_metrics_from_csv_op(\n",
    "        true_values=true_values,\n",
    "        predicted_values=predictions,\n",
    "    )\n",
    "\n",
    "    # Checking the metrics\n",
    "    with kfp.dsl.Condition(metrics_task.outputs['mean_squared_error'] > 0.01):\n",
    "        # Training some more\n",
    "        train_until_low_error(\n",
    "            starting_model=model,\n",
    "            training_data=training_data,\n",
    "            true_values=true_values,\n",
    "        )\n",
    "\n",
    "\n",
    "# The main pipleine trains the initial model and then gradually trains the model some more until the model evaluation metrics are good enough.\n",
    "@kfp.dsl.pipeline()\n",
    "def train_until_good_pipeline():\n",
    "    # Preparing the training data\n",
    "    training_data = chicago_taxi_dataset_op(\n",
    "        where='trip_start_timestamp >= \"2019-01-01\" AND trip_start_timestamp < \"2019-02-01\"',\n",
    "        select='tips,trip_seconds,trip_miles,pickup_community_area,dropoff_community_area,fare,tolls,extras,trip_total',\n",
    "        limit=10000,\n",
    "    ).output\n",
    "\n",
    "    # Preparing the true values\n",
    "    true_values_table = pandas_transform_csv_op(\n",
    "        table=training_data,\n",
    "        transform_code='df = df[[\"tips\"]]',\n",
    "    ).output\n",
    "    \n",
    "    true_values = drop_header_op(true_values_table).output\n",
    "\n",
    "    # Initial model training\n",
    "    first_model = xgboost_train_on_csv_op(\n",
    "        training_data=training_data,\n",
    "        label_column=0,\n",
    "        objective='reg:squarederror',\n",
    "        num_iterations=100,\n",
    "    ).outputs['model']\n",
    "\n",
    "    # Recursively training until the error becomes low\n",
    "    train_until_low_error(\n",
    "        starting_model=first_model,\n",
    "        training_data=training_data,\n",
    "        true_values=true_values,\n",
    "    )\n",
    "\n",
    "if __name__ == '__main__':\n",
    "    kfp.Client().create_run_from_pipeline_func(pipeline_func=train_until_good_pipeline,\n",
    "                                               arguments={}, namespace='user')\n"
   ]
  },
  {
   "cell_type": "code",
   "execution_count": null,
   "id": "4b546575-36d7-4a67-b3ad-aff596aafd8c",
   "metadata": {},
   "outputs": [],
   "source": []
  }
 ],
 "metadata": {
  "kernelspec": {
   "display_name": "Python 3",
   "language": "python",
   "name": "python3"
  },
  "language_info": {
   "codemirror_mode": {
    "name": "ipython",
    "version": 3
   },
   "file_extension": ".py",
   "mimetype": "text/x-python",
   "name": "python",
   "nbconvert_exporter": "python",
   "pygments_lexer": "ipython3",
   "version": "3.8.10"
  }
 },
 "nbformat": 4,
 "nbformat_minor": 5
}
